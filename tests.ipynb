{
 "cells": [
  {
   "cell_type": "code",
   "execution_count": 1,
   "metadata": {},
   "outputs": [],
   "source": [
    "import pandas as pd\n",
    "from src._dataclasses import *\n",
    "from src._constants import *"
   ]
  },
  {
   "cell_type": "code",
   "execution_count": 2,
   "metadata": {},
   "outputs": [],
   "source": [
    "CELESC = CriarRede()\n"
   ]
  },
  {
   "cell_type": "code",
   "execution_count": 3,
   "metadata": {},
   "outputs": [
    {
     "name": "stdout",
     "output_type": "stream",
     "text": [
      "GCR\n",
      "|   |-- GCR01\n",
      "|   |   |-- FNS_532 RA\n",
      "|   |   |   |-- FNS_86562 RA\n",
      "|   |   |   |   |-- FNS_2023 CD\n",
      "|   |   |   |   |   |-- FNS_3189 FU\n",
      "|   |   |   |   |   |-- FNS_80018 FU\n",
      "|   |   |   |   |   |-- FNS_4555 FU\n",
      "|   |   |   |   |   |-- FNS_84166 CD\n",
      "|   |   |   |   |   |   |-- FNS_80144 FU\n",
      "|   |   |   |   |   |   |-- FNS_80146 FU\n",
      "|   |   |   |   |   |   |-- FNS_9872 FU\n",
      "|   |   |   |   |   |   |-- FNS_4865 FU\n",
      "|   |   |   |   |-- FNS_89101 TS\n",
      "|   |   |   |   |   |-- FNS_84594 CD\n",
      "|   |   |   |   |   |   |-- FNS_3236 FU\n",
      "|   |   |   |   |   |   |-- FNS_3306 FU\n",
      "|   |   |   |   |   |   |-- FNS_9688 FU\n",
      "|   |   |   |   |   |   |-- FNS_79094 FU\n"
     ]
    }
   ],
   "source": [
    "se = CELESC.find(\"GCR\")\n",
    "se.print_tree()"
   ]
  },
  {
   "cell_type": "code",
   "execution_count": 4,
   "metadata": {},
   "outputs": [
    {
     "data": {
      "text/plain": [
       "Alimentador(GCR01)"
      ]
     },
     "execution_count": 4,
     "metadata": {},
     "output_type": "execute_result"
    }
   ],
   "source": [
    "CELESC.find(\"FNS_532\").alimentador"
   ]
  }
 ],
 "metadata": {
  "kernelspec": {
   "display_name": "Python 3",
   "language": "python",
   "name": "python3"
  },
  "language_info": {
   "codemirror_mode": {
    "name": "ipython",
    "version": 3
   },
   "file_extension": ".py",
   "mimetype": "text/x-python",
   "name": "python",
   "nbconvert_exporter": "python",
   "pygments_lexer": "ipython3",
   "version": "3.10.4"
  },
  "orig_nbformat": 4
 },
 "nbformat": 4,
 "nbformat_minor": 2
}
